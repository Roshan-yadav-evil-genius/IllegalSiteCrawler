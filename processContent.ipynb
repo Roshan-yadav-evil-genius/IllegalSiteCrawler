{
 "cells": [
  {
   "cell_type": "code",
   "execution_count": 2,
   "metadata": {},
   "outputs": [],
   "source": [
    "from scrapy.selector import Selector\n",
    "import json\n",
    "import scrapy\n",
    "import requests"
   ]
  },
  {
   "cell_type": "code",
   "execution_count": 3,
   "metadata": {},
   "outputs": [],
   "source": [
    "with open(\"page_content.html\", \"r\") as file:\n",
    "    text = file.read()\n",
    "resp = Selector(text=text)"
   ]
  },
  {
   "cell_type": "code",
   "execution_count": 9,
   "metadata": {},
   "outputs": [],
   "source": [
    "with open(\"state.json\", \"r\") as file:\n",
    "    cookies = {obj['name']: obj['value']\n",
    "               for obj in json.loads(file.read())['cookies']}"
   ]
  },
  {
   "cell_type": "code",
   "execution_count": 10,
   "metadata": {},
   "outputs": [
    {
     "data": {
      "text/plain": [
       "{'country': 'IN',\n",
       " 'language': 'en-in',\n",
       " '_ga_8GSNLSQ715': 'GS1.1.1702725589.1.0.1702725589.60.0.0',\n",
       " '_ga': 'GA1.1.1184188163.1702725590'}"
      ]
     },
     "execution_count": 10,
     "metadata": {},
     "output_type": "execute_result"
    }
   ],
   "source": [
    "cookies"
   ]
  },
  {
   "cell_type": "code",
   "execution_count": 5,
   "metadata": {},
   "outputs": [],
   "source": [
    "resp = requests.get(\"https://www.skokka.in/call-girls/bangalore/\")"
   ]
  },
  {
   "cell_type": "code",
   "execution_count": 6,
   "metadata": {},
   "outputs": [],
   "source": [
    "lr = Selector(text=resp.text)"
   ]
  },
  {
   "cell_type": "code",
   "execution_count": 13,
   "metadata": {},
   "outputs": [
    {
     "data": {
      "text/plain": [
       "['https://www.skokka.in',\n",
       " 'https://www.skokka.in',\n",
       " 'https://www.skokka.in/call-girls/',\n",
       " 'https://www.skokka.in/call-girls/karnataka/',\n",
       " 'https://www.skokka.in/call-girls/bangalore/',\n",
       " 'https://www.skokka.in/call-girls/bangalore/',\n",
       " 'https://www.skokka.in/k/independent-girls-in-bangalore/',\n",
       " 'https://www.skokka.in/k/bdsm-in-bangalore/',\n",
       " 'https://www.skokka.in/k/outcall-girls-in-bangalore/',\n",
       " 'https://www.skokka.in/k/call-girl-whatsapp-number-in-bangalore/',\n",
       " 'https://www.skokka.in/k/phone-sex-in-bangalore/',\n",
       " 'https://www.skokka.in/k/sexting-in-bangalore/',\n",
       " 'https://www.skokka.in/tag/xnxx/',\n",
       " 'https://www.skokka.in/call-girls/tag/xxx-sexy-video/',\n",
       " 'https://www.skokka.in/call-girls/bangalore/',\n",
       " 'https://www.skokka.in/massages/bangalore/',\n",
       " 'https://www.skokka.in/male-escorts/bangalore/',\n",
       " 'https://www.skokka.in/transsexual/bangalore/',\n",
       " 'https://www.skokka.in/adult-meetings/bangalore/']"
      ]
     },
     "execution_count": 13,
     "metadata": {},
     "output_type": "execute_result"
    }
   ],
   "source": [
    "lr.xpath(\"//a[contains(@href,'https://www.skokka.in') and not(contains(@href,'/ad/')) ]/@href\").extract_first"
   ]
  },
  {
   "cell_type": "code",
   "execution_count": 8,
   "metadata": {},
   "outputs": [
    {
     "data": {
      "text/plain": [
       "['https://www.skokka.in',\n",
       " 'https://www.skokka.in',\n",
       " 'https://www.skokka.in/call-girls/',\n",
       " 'https://www.skokka.in/call-girls/karnataka/',\n",
       " 'https://www.skokka.in/call-girls/bangalore/',\n",
       " 'https://www.skokka.in/ad/genuine-full-nude-live-video-call-service-sex-video-call-service-availablehot-girls-in2amke7c/',\n",
       " 'https://www.skokka.in/ad/sex-chat-available-with-nude-pic-big-boss-full-nude-fingering-video-call-service-available-call-serv-in6iwb18k/',\n",
       " 'https://www.skokka.in/ad/genuine-calls-girl-vip-high-profile-escort-college-girl-and-bhabhi-all-bangalore-24-hours-available-in2znw6gy/',\n",
       " 'https://www.skokka.in/ad/bangalore-direct-payment-to-girl-call-or-whatsapp-me-for-more-information-hand-to-hand-cash-payment--in2qplcf4/',\n",
       " 'https://www.skokka.in/ad/hello-gentlemen-lam-shina-from-whitefield-bangalore-city-in6uejb7s/',\n",
       " 'https://www.skokka.in/ad/full-nude-video-calling-phone-sex-services-genuine-people-in94v6rlv/',\n",
       " 'https://www.skokka.in/ad/hand-to-hand-cash-payment-genuine-service-call-now-in1uplfxe/',\n",
       " 'https://www.skokka.in/ad/private-nude-cam-show-in9tc18oq/',\n",
       " 'https://www.skokka.in/ad/welcome-to-our-high-profile-escort-girl-services-get-your-beautiful-dream-girl-right-now-no-advance--in0gszvmi/',\n",
       " 'https://www.skokka.in/ad/no-advance-direct-payment-to-girl-in0jvm6zq/',\n",
       " 'https://www.skokka.in/ad/petitecurvywet-tight-pussy-in7e4fit9/',\n",
       " 'https://www.skokka.in/ad/demo-51-only-hey-im-riya-jaat-genuine-full-nude-videocall-service-with-voice-and-fingring-in6vnyuev/',\n",
       " 'https://www.skokka.in/ad/african-curvy-ass-girl-firm-buttcheeks-juicy-fat-pussy-super-horny-realmeet-fucking-sucking-sex-fun-in5dfoxjz/',\n",
       " 'https://www.skokka.in/ad/24x7-affordable-cheapest-rate-safe-call-girl-service-in1w8tl19/',\n",
       " 'https://www.skokka.in/ad/lyton-in-electronic-city-bangalore-looking-for-realmeet-in36146i8/',\n",
       " 'https://www.skokka.in/ad/demo-charge-50-only-5-minutes-hii-am-rita-college-girl-genuine-independent-call-girl-service-247h-av-in6u4cxmb/',\n",
       " 'https://www.skokka.in/ad/live-nude-video-call-service-available-i-am-independent-girls-low-price-available-service-247-in16thx8j/',\n",
       " 'https://www.skokka.in/ad/bangalore-10min-100-just-pay-live-videocall-servicefull-nude-and-sexy-video-call-real-service-availa-in5x4l7po/',\n",
       " 'https://www.skokka.in/ad/cash-on-payment-hot-genuine-independent-escorts-service-with-kavyan-in584pzju/',\n",
       " 'https://www.skokka.in/ad/live-cam-show-nd-couple-show-with-riya-in5v0si43/',\n",
       " 'https://www.skokka.in/ad/whatsapp-ms-payal-for-genuine-meeting-in-bangalore-in-in0pbqzyp/',\n",
       " 'https://www.skokka.in/ad/hi-i-am-kamal-devi-provide-for-nude-video-call-service-full-open-bodyavailable-in1nm4wh7/',\n",
       " 'https://www.skokka.in/ad/bangalore-low-price-full-nude-video-calling-service-with-voice-and-fingering-full-genuine-service-in3w6jtld/',\n",
       " 'https://www.skokka.in/ad/once-try-25rs-live-demo-if-need-independent-girl-no-hidden-charges-no-security-change-but-time-passe-in7wte11x/',\n",
       " 'https://www.skokka.in/ad/this-girl-is-extremely-pleasant-company-with-first-rate-sex-all-you-have-to-do-in-order-to-enjoy-her-in2lbw8vf/',\n",
       " 'https://www.skokka.in/call-girls/bangalore/',\n",
       " 'https://www.skokka.in/k/independent-girls-in-bangalore/',\n",
       " 'https://www.skokka.in/k/bdsm-in-bangalore/',\n",
       " 'https://www.skokka.in/k/outcall-girls-in-bangalore/',\n",
       " 'https://www.skokka.in/k/call-girl-whatsapp-number-in-bangalore/',\n",
       " 'https://www.skokka.in/k/phone-sex-in-bangalore/',\n",
       " 'https://www.skokka.in/k/sexting-in-bangalore/',\n",
       " 'https://www.skokka.in/tag/xnxx/',\n",
       " 'https://www.skokka.in/call-girls/tag/xxx-sexy-video/',\n",
       " 'https://www.skokka.in/call-girls/bangalore/',\n",
       " 'https://www.skokka.in/massages/bangalore/',\n",
       " 'https://www.skokka.in/male-escorts/bangalore/',\n",
       " 'https://www.skokka.in/transsexual/bangalore/',\n",
       " 'https://www.skokka.in/adult-meetings/bangalore/']"
      ]
     },
     "execution_count": 8,
     "metadata": {},
     "output_type": "execute_result"
    }
   ],
   "source": [
    "urls"
   ]
  },
  {
   "cell_type": "code",
   "execution_count": 16,
   "metadata": {},
   "outputs": [],
   "source": [
    "dummy = \"https://www.skokka.in/ad/call-girl-in-bangalore-home-and-hotel-service-cheap-price-all-type-girl-available-in6bbfyb9/?pck=24b4ed\""
   ]
  },
  {
   "cell_type": "code",
   "execution_count": 72,
   "metadata": {},
   "outputs": [
    {
     "data": {
      "text/plain": [
       "{'images': ['https://ii-static.imgskk.com/post/12/18/1218e4f3fa074daebe128726842bca70.jpg?v=84ssm3xe',\n",
       "  'https://ii-static.imgskk.com/post/08/f9/08f91b7478c646fa8765bb9026be19ef.jpg?v=84ssm3xe',\n",
       "  'https://ii-static.imgskk.com/post/a0/de/a0de2daaa7f9405fae70bda22ee6e0e5.jpg?v=84ssm3xe',\n",
       "  'https://ii-static.imgskk.com/post/c3/72/c372a7544457404aa8c463d044eafe92.jpg?v=84ssm3xe'],\n",
       " 'title': '*CALL GIRL IN BANGALORE HOME AND HOTEL SERVICE CHEAP PRICE ALL TYPE GIRL AVAILABLE',\n",
       " 'phone': '09358646806',\n",
       " 'desc': \"full privacy sex 💯, Outcall in call full satisfied sex service full safe hotel and how sex service, 💯hostel girl2-💯college girl3-💯housewife4-VIP TV serials girl and housewife sexy available, WE RESPECT YOUR SAFETY AND PRIVACY, CONTACT GENUINE CUSTOMER ONLY, CALL ME NOW, DON'T TIME PASS, SOUTH FRESH COLLEGE GIRLS, HI-FI MODELS, AIRHOSTES, hostel girl housewife, 💯AUNTIES HOURS A-Z SERVICES ,ANAL,ORAL,HANDJOB,BLOWJOB,, BODY MASSAGE,UNLIMITED SHOTS SERVICES AVAILABLE.... SPECIAL OIL MASSAGE ,💯, BODY TO BODY MASSAGE& BODY TO BODY NUDE MASSAGES WITH UNLIMITED SHOTS.GET, COMPLETE HOURS UNLIMITED SHORTS ,BODY MASSAGE A TO Z SERVICE IN MY APARTMENT ....💯, YOU CAN GET SANDWICH MASSAGE SERVICE WITH MY FRIENDS THEY ALSO READY TO GIVE, SATISFACTION TO YOU JUST COME MY PLACE ENJOY THIS WEEKEND ...OUTCALL\"}"
      ]
     },
     "execution_count": 72,
     "metadata": {},
     "output_type": "execute_result"
    }
   ],
   "source": [
    "def getDataFromAdPage(adPageUrl):\n",
    "    images = []\n",
    "    title = \"\"\n",
    "    phone = \"\"\n",
    "    desc = \"\"\n",
    "    response = \"\"\n",
    "    try:\n",
    "        spage = requests.get(adPageUrl)\n",
    "        if spage.status_code == 200:\n",
    "            response = Selector(text=spage.text)\n",
    "    except:\n",
    "        return None\n",
    "    try:\n",
    "        images = response.xpath(\"//div[@class='brick']/*/img/@src\").extract()\n",
    "    except:\n",
    "        pass\n",
    "    try:\n",
    "        title = response.xpath(\n",
    "            \"//*[contains(@class,'main-title')]/text()\").extract_first()\n",
    "    except:\n",
    "        pass\n",
    "    try:\n",
    "        phone = response.xpath(\n",
    "            \"//div[contains(@class,'contactdk')]/*[@number]/@number\").extract_first()\n",
    "    except:\n",
    "        pass\n",
    "    try:\n",
    "        desc = \", \".join(response.xpath(\n",
    "            \"//*[contains(@class,'service-detail')]/*/text()\").extract()).strip()\n",
    "    except:\n",
    "        pass\n",
    "\n",
    "    return {\"images\": images, \"title\": title, \"phone\": phone, \"desc\": desc}\n",
    "\n",
    "\n",
    "getDataFromAdPage(dummy)"
   ]
  },
  {
   "cell_type": "code",
   "execution_count": 17,
   "metadata": {},
   "outputs": [],
   "source": [
    "desc = phone = title = images = None"
   ]
  },
  {
   "cell_type": "code",
   "execution_count": 18,
   "metadata": {},
   "outputs": [],
   "source": [
    "phone = \"546\""
   ]
  },
  {
   "cell_type": "code",
   "execution_count": 19,
   "metadata": {},
   "outputs": [
    {
     "data": {
      "text/plain": [
       "{'images': None, 'title': None, 'phone': '546', 'desc': None}"
      ]
     },
     "execution_count": 19,
     "metadata": {},
     "output_type": "execute_result"
    }
   ],
   "source": [
    "{\"images\": images, \"title\": title, \"phone\": phone, \"desc\": desc}"
   ]
  },
  {
   "cell_type": "code",
   "execution_count": null,
   "metadata": {},
   "outputs": [],
   "source": [
    "Accept:\n",
    "text/html,application/xhtml+xml,application/xml;q=0.9,image/avif,image/webp,image/apng,*/*;q=0.8,application/signed-exchange;v=b3;q=0.7\n",
    "Accept-Encoding:\n",
    "gzip, deflate, br\n",
    "Accept-Language:\n",
    "en-US,en;q=0.9\n",
    "Cache-Control:\n",
    "max-age=0\n",
    "Cookie:\n",
    "adult_cookie=1; _gid=GA1.2.1648175782.1702716543; \n",
    "_hjSessionUser_627251=eyJpZCI6ImM1ZWVlNDQ0LWRjMzctNWIyMi1hMWYyLTI3MjM0YjEyYTE3ZSIsImNyZWF0ZWQiOjE3MDI3MTY1NDM4MjksImV4aXN0aW5nIjp0cnVlfQ==; \n",
    "country=IN; \n",
    "language=en-in; city=pune; _ga=GA1.1.174328498.1702651276; last_listing_url=https%3A%2F%2Fwww.skokka.in%2Fcall-girls%2F; _ga_8GSNLSQ715=GS1.1.1702726193.4.1.1702726199.54.0.0\n",
    "Sec-Ch-Ua:\n",
    "\"Not_A Brand\";v=\"8\", \"Chromium\";v=\"120\", \"Google Chrome\";v=\"120\"\n",
    "Sec-Ch-Ua-Mobile:\n",
    "?0\n",
    "Sec-Ch-Ua-Platform:\n",
    "\"Windows\"\n",
    "Sec-Fetch-Dest:\n",
    "document\n",
    "Sec-Fetch-Mode:\n",
    "navigate\n",
    "Sec-Fetch-Site:\n",
    "none\n",
    "Sec-Fetch-User:\n",
    "?1\n",
    "Upgrade-Insecure-Requests:\n",
    "1\n",
    "User-Agent:\n",
    "Mozilla/5.0 (Windows NT 10.0; Win64; x64) AppleWebKit/537.36 (KHTML, like Gecko) Chrome/120.0.0.0 Safari/537.36"
   ]
  },
  {
   "cell_type": "code",
   "execution_count": 5,
   "metadata": {},
   "outputs": [
    {
     "data": {
      "text/plain": [
       "['https://www.skokka.in',\n",
       " 'https://www.skokka.in/call-girls/bangalore/',\n",
       " 'https://www.skokka.in/call-girls/hyderabad/',\n",
       " 'https://www.skokka.in/call-girls/delhi/',\n",
       " 'https://www.skokka.in/massages/bangalore/',\n",
       " 'https://www.skokka.in/massages/hyderabad/',\n",
       " 'https://www.skokka.in/massages/delhi/',\n",
       " 'https://www.skokka.in/male-escorts/bangalore/',\n",
       " 'https://www.skokka.in/male-escorts/hyderabad/',\n",
       " 'https://www.skokka.in/male-escorts/delhi/',\n",
       " 'https://www.skokka.in/transsexual/bangalore/',\n",
       " 'https://www.skokka.in/transsexual/hyderabad/',\n",
       " 'https://www.skokka.in/transsexual/delhi/',\n",
       " 'https://www.skokka.in/adult-meetings/bangalore/',\n",
       " 'https://www.skokka.in/adult-meetings/hyderabad/',\n",
       " 'https://www.skokka.in/adult-meetings/delhi/',\n",
       " 'https://www.skokka.in/call-girls/',\n",
       " 'https://www.skokka.in/call-girls/bangalore/',\n",
       " 'https://www.skokka.in/call-girls/hyderabad/',\n",
       " 'https://www.skokka.in/call-girls/delhi/',\n",
       " 'https://www.skokka.in/call-girls/pune/',\n",
       " 'https://www.skokka.in/call-girls/mumbai/',\n",
       " 'https://www.skokka.in/massages/',\n",
       " 'https://www.skokka.in/massages/bangalore/',\n",
       " 'https://www.skokka.in/massages/hyderabad/',\n",
       " 'https://www.skokka.in/massages/delhi/',\n",
       " 'https://www.skokka.in/massages/pune/',\n",
       " 'https://www.skokka.in/massages/mumbai/',\n",
       " 'https://www.skokka.in/male-escorts/',\n",
       " 'https://www.skokka.in/male-escorts/bangalore/',\n",
       " 'https://www.skokka.in/male-escorts/hyderabad/',\n",
       " 'https://www.skokka.in/male-escorts/delhi/',\n",
       " 'https://www.skokka.in/male-escorts/pune/',\n",
       " 'https://www.skokka.in/male-escorts/mumbai/',\n",
       " 'https://www.skokka.in/transsexual/',\n",
       " 'https://www.skokka.in/transsexual/bangalore/',\n",
       " 'https://www.skokka.in/transsexual/hyderabad/',\n",
       " 'https://www.skokka.in/transsexual/delhi/',\n",
       " 'https://www.skokka.in/transsexual/pune/',\n",
       " 'https://www.skokka.in/transsexual/mumbai/',\n",
       " 'https://www.skokka.in/adult-meetings/',\n",
       " 'https://www.skokka.in/adult-meetings/bangalore/',\n",
       " 'https://www.skokka.in/adult-meetings/hyderabad/',\n",
       " 'https://www.skokka.in/adult-meetings/delhi/',\n",
       " 'https://www.skokka.in/adult-meetings/pune/',\n",
       " 'https://www.skokka.in/adult-meetings/mumbai/']"
      ]
     },
     "execution_count": 5,
     "metadata": {},
     "output_type": "execute_result"
    }
   ],
   "source": [
    "resp.xpath(\"//a[contains(@href,'https://www.skokka.in')]/@href\").extract()"
   ]
  },
  {
   "cell_type": "code",
   "execution_count": 21,
   "metadata": {},
   "outputs": [
    {
     "ename": "NameError",
     "evalue": "name 'response' is not defined",
     "output_type": "error",
     "traceback": [
      "\u001b[1;31m---------------------------------------------------------------------------\u001b[0m",
      "\u001b[1;31mNameError\u001b[0m                                 Traceback (most recent call last)",
      "Cell \u001b[1;32mIn[21], line 1\u001b[0m\n\u001b[1;32m----> 1\u001b[0m phoneno \u001b[38;5;241m=\u001b[39m \u001b[43mresponse\u001b[49m\u001b[38;5;241m.\u001b[39mxpath(\u001b[38;5;124m\"\u001b[39m\u001b[38;5;124m//a[contains(@class,\u001b[39m\u001b[38;5;124m'\u001b[39m\u001b[38;5;124mbtntelephone\u001b[39m\u001b[38;5;124m'\u001b[39m\u001b[38;5;124m) and @data-last]/@data-last\u001b[39m\u001b[38;5;124m\"\u001b[39m)\u001b[38;5;241m.\u001b[39mextract_first()\u001b[38;5;241m.\u001b[39mreplace(\u001b[38;5;124m\"\u001b[39m\u001b[38;5;124m \u001b[39m\u001b[38;5;124m\"\u001b[39m,\u001b[38;5;124m'\u001b[39m\u001b[38;5;124m'\u001b[39m)\n",
      "\u001b[1;31mNameError\u001b[0m: name 'response' is not defined"
     ]
    }
   ],
   "source": [
    "phoneno = response.xpath(\n",
    "    \"//a[contains(@class,'btntelephone') and @data-last]/@data-last\").extract_first().replace(\" \", '')\n",
    "images = response.xpath(\"//div[contains(@class,'brick')]//img/@src\").extract()\n",
    "title = response.xpath(\n",
    "    \"//div[contains(@class,'details-left-items')]/h1/text()\").extract_first().strip()\n",
    "desc = \", \".join(response.xpath(\n",
    "    \"//div[contains(@class,'details-left-items')]/p[not(@*)]/text()\").extract())"
   ]
  },
  {
   "cell_type": "code",
   "execution_count": 22,
   "metadata": {},
   "outputs": [
    {
     "data": {
      "text/plain": [
       "<Response [200]>"
      ]
     },
     "execution_count": 22,
     "metadata": {},
     "output_type": "execute_result"
    }
   ],
   "source": [
    "requests.get(\"https://www.skokka.in/call-girls/\")"
   ]
  },
  {
   "cell_type": "code",
   "execution_count": 4,
   "metadata": {},
   "outputs": [
    {
     "data": {
      "text/plain": [
       "['https://in.liptpal.com/male-escorts/cuttack',\n",
       " 'https://in.liptpal.com/call-girls/hyderabad',\n",
       " 'https://in.liptpal.com/male-escorts/chennai',\n",
       " 'https://in.liptpal.com/male-escorts/ludhiana',\n",
       " 'https://in.liptpal.com/massage/cuttack',\n",
       " 'https://in.liptpal.com/call-girls/central-delhi',\n",
       " 'https://in.liptpal.com/adult-meetings/kota',\n",
       " 'https://in.liptpal.com/transsexual/hyderabad',\n",
       " 'https://in.liptpal.com/transsexual/ludhiana',\n",
       " 'https://in.liptpal.com/adult-meetings/hyderabad',\n",
       " 'https://in.liptpal.com/male-escorts/kolkata',\n",
       " 'https://in.liptpal.com/massage/ahmedabad',\n",
       " 'https://in.liptpal.com/call-girls/kolkata',\n",
       " 'https://in.liptpal.com/male-escorts/hyderabad',\n",
       " 'https://in.liptpal.com/male-escorts/khordha',\n",
       " 'https://in.liptpal.com/adult-meetings/gautam-buddha-nagar',\n",
       " 'https://in.liptpal.com/adult-meetings/surat',\n",
       " 'https://in.liptpal.com/massage/kolkata',\n",
       " 'https://in.liptpal.com/adult-meetings/ludhiana',\n",
       " 'https://in.liptpal.com',\n",
       " 'https://in.liptpal.com/call-girls/thane',\n",
       " 'https://in.liptpal.com/massage/gautam-buddha-nagar',\n",
       " 'https://in.liptpal.com/adult-meetings/cuttack',\n",
       " 'https://in.liptpal.com/transsexual/chennai',\n",
       " 'https://in.liptpal.com/transsexual/pune',\n",
       " 'https://in.liptpal.com/male-escorts/gautam-buddha-nagar',\n",
       " 'https://in.liptpal.com/call-girls/ranchi',\n",
       " 'https://in.liptpal.com/massage/hyderabad',\n",
       " 'https://in.liptpal.com/massage/puri',\n",
       " 'https://in.liptpal.com/transsexual/surat',\n",
       " 'https://in.liptpal.com/call-girls/east-delhi',\n",
       " 'https://in.liptpal.com/adult-meetings/jalandhar',\n",
       " 'https://in.liptpal.com/male-escorts/mumbai',\n",
       " 'https://in.liptpal.com/massage/pune',\n",
       " 'https://in.liptpal.com/transsexual/jalandhar',\n",
       " 'https://in.liptpal.com/male-escorts/pune',\n",
       " 'https://in.liptpal.com/transsexual/cuttack',\n",
       " 'https://in.liptpal.com/transsexual/khordha',\n",
       " 'https://in.liptpal.com/massage/surat',\n",
       " 'https://in.liptpal.com/massage/khordha',\n",
       " 'https://in.liptpal.com/call-girls/mumbai',\n",
       " 'https://in.liptpal.com/call-girls/pune',\n",
       " 'https://in.liptpal.com/transsexual/ahmedabad',\n",
       " 'https://in.liptpal.com/call-girls/new-delhi',\n",
       " 'https://in.liptpal.com/adult-meetings/pune',\n",
       " 'https://in.liptpal.com/adult-meetings/chennai']"
      ]
     },
     "execution_count": 4,
     "metadata": {},
     "output_type": "execute_result"
    }
   ],
   "source": [
    "resp = requests.get(\"https://in.liptpal.com/\")\n",
    "resp = Selector(text=resp.text)\n",
    "list(set(resp.xpath(\"\"\"//a[\n",
    "            starts-with(@href, 'https://in.liptpal') and \n",
    "            not(\n",
    "                contains(@href, 'register') or \n",
    "                contains(@href, 'post-ad') or \n",
    "                contains(@href, 'faq') or \n",
    "                contains(@href, 'promote-your-ad') or \n",
    "                contains(@href, 'contact-us') or \n",
    "                contains(@href, 'privacy-policy') or \n",
    "                contains(@href, 'terms-condition') or \n",
    "                contains(@href, 'login'\n",
    "           )\n",
    ")]/@href\"\"\").extract()))"
   ]
  },
  {
   "cell_type": "code",
   "execution_count": 40,
   "metadata": {},
   "outputs": [
    {
     "data": {
      "text/plain": [
       "['https://in.liptpal.com',\n",
       " 'https://in.liptpal.com',\n",
       " 'https://in.liptpal.com',\n",
       " 'https://in.liptpal.com/call-girls',\n",
       " 'https://in.liptpal.com/call-girls/thane',\n",
       " 'https://in.liptpal.com/call-girls/navi-mumbai/mira-bhayandar-thane-only-cash-payment-call-girl-sarvice-available-hotel-and-home-full-cash-payment/813418',\n",
       " 'https://in.liptpal.com/call-girls/navi-mumbai/mira-bhayandar-thane-only-cash-payment-call-girl-sarvice-available-hotel-and-home-full-cash-payment/813418',\n",
       " 'https://in.liptpal.com/call-girls/dombivli/dombivli-vip-real-escort-high-profile-college/808713',\n",
       " 'https://in.liptpal.com/call-girls/dombivli/dombivli-vip-real-escort-high-profile-college/808713',\n",
       " 'https://in.liptpal.com/call-girls/thane/thane-independent-escort-service-at-affordable-rates/813822',\n",
       " 'https://in.liptpal.com/call-girls/thane/thane-independent-escort-service-at-affordable-rates/813822',\n",
       " 'https://in.liptpal.com/call-girls/navi-mumbai/navi-mumbai-escort-service-at-affordable-rates/813797',\n",
       " 'https://in.liptpal.com/call-girls/navi-mumbai/navi-mumbai-escort-service-at-affordable-rates/813797',\n",
       " 'https://in.liptpal.com/call-girls/kalyan/hii-service-available-in-kalyan-manshi-vip-escort/813260',\n",
       " 'https://in.liptpal.com/call-girls/kalyan/hii-service-available-in-kalyan-manshi-vip-escort/813260',\n",
       " 'https://in.liptpal.com/call-girls/thane/call-girls-in-hot-and-sexy-independent-escorts-in-short-time-or-full-night-unlimited-enjoy-genuine/812938',\n",
       " 'https://in.liptpal.com/call-girls/thane/call-girls-in-hot-and-sexy-independent-escorts-in-short-time-or-full-night-unlimited-enjoy-genuine/812938',\n",
       " 'https://in.liptpal.com/call-girls/navi-mumbai/navi-mumbai-low-cost-service-provide-all-type-service-unlimited-shot-full-enjoy/812927',\n",
       " 'https://in.liptpal.com/call-girls/navi-mumbai/navi-mumbai-low-cost-service-provide-all-type-service-unlimited-shot-full-enjoy/812927',\n",
       " 'https://in.liptpal.com/call-girls/dombivli/hii-service-available-in-dombivli-payal-vip-escort/813287',\n",
       " 'https://in.liptpal.com/call-girls/dombivli/hii-service-available-in-dombivli-payal-vip-escort/813287',\n",
       " 'https://in.liptpal.com/call-girls/dombivli/dombivli-myself-ankita-call-girl-escort-service-in-unlimited-sex-service-available-call-service/812976',\n",
       " 'https://in.liptpal.com/call-girls/dombivli/dombivli-myself-ankita-call-girl-escort-service-in-unlimited-sex-service-available-call-service/812976',\n",
       " 'https://in.liptpal.com/call-girls/thane/today-low-price-unlimited-enjoy-hot-college-girl-housewife-aunties-avai/762798',\n",
       " 'https://in.liptpal.com/call-girls/thane/today-low-price-unlimited-enjoy-hot-college-girl-housewife-aunties-avai/762798',\n",
       " 'https://in.liptpal.com/call-girls/navi-mumbai/navi-mumbai-thane-ten-years-business-experience-high-profiles-indian-models-available/785937',\n",
       " 'https://in.liptpal.com/call-girls/navi-mumbai/navi-mumbai-thane-ten-years-business-experience-high-profiles-indian-models-available/785937',\n",
       " 'https://in.liptpal.com/call-girls/navi-mumbai/only-cash-payment-call-girl-sarvice-available-hotel-and-home/796249',\n",
       " 'https://in.liptpal.com/call-girls/navi-mumbai/only-cash-payment-call-girl-sarvice-available-hotel-and-home/796249',\n",
       " 'https://in.liptpal.com/call-girls/thane/hi-priya-escort-service-today-thane-night-service-available/813006',\n",
       " 'https://in.liptpal.com/call-girls/thane/hi-priya-escort-service-today-thane-night-service-available/813006',\n",
       " 'https://in.liptpal.com/call-girls/thane/thane-ten-years-business-experience-services-call-or-whatspp-mee/779773',\n",
       " 'https://in.liptpal.com/call-girls/thane/thane-ten-years-business-experience-services-call-or-whatspp-mee/779773',\n",
       " 'https://in.liptpal.com/call-girls/thane/call-girls-in-hot-and-sexy-independent-escorts-in-short-time-or-full-night-unlimited-enjoy-genuine/812916',\n",
       " 'https://in.liptpal.com/call-girls/thane/call-girls-in-hot-and-sexy-independent-escorts-in-short-time-or-full-night-unlimited-enjoy-genuine/812916',\n",
       " 'https://in.liptpal.com/call-girls/dombivli/dombivli-best-vip-genuine-independent-low-cost-call-vip-girls-service/814738',\n",
       " 'https://in.liptpal.com/call-girls/dombivli/dombivli-best-vip-genuine-independent-low-cost-call-vip-girls-service/814738',\n",
       " 'https://in.liptpal.com/call-girls/navi-mumbai/navi-mumbai-all-safe-place-indipendent-raghini-pooja/813776',\n",
       " 'https://in.liptpal.com/call-girls/navi-mumbai/navi-mumbai-all-safe-place-indipendent-raghini-pooja/813776',\n",
       " 'https://in.liptpal.com/call-girls/mira-bhayandar/mira-bhayandar-cash-payment-on-delivery-call-girl-sarvice-thane-mira-bhayandar-all-navi-mumbai/813780',\n",
       " 'https://in.liptpal.com/call-girls/mira-bhayandar/mira-bhayandar-cash-payment-on-delivery-call-girl-sarvice-thane-mira-bhayandar-all-navi-mumbai/813780',\n",
       " 'https://in.liptpal.com/call-girls/thane/hii-service-available-in-thane-payal-vip-escort/813291',\n",
       " 'https://in.liptpal.com/call-girls/thane/hii-service-available-in-thane-payal-vip-escort/813291',\n",
       " 'https://in.liptpal.com/call-girls/thane/thane-best-vip-independent-guniun-low-price/813733',\n",
       " 'https://in.liptpal.com/call-girls/thane/thane-best-vip-independent-guniun-low-price/813733',\n",
       " 'https://in.liptpal.com/call-girls/bhiwandi/bhiwandi-sexy-models-foreigner-and-house-wife-escort-so-call-know/812494',\n",
       " 'https://in.liptpal.com/call-girls/bhiwandi/bhiwandi-sexy-models-foreigner-and-house-wife-escort-so-call-know/812494',\n",
       " 'https://in.liptpal.com/call-girls/thane/thane-myself-ankita-call-girl-escort-service-in-unlimited-sex-service-availablecall-service/812985',\n",
       " 'https://in.liptpal.com/call-girls/thane/thane-myself-ankita-call-girl-escort-service-in-unlimited-sex-service-availablecall-service/812985',\n",
       " 'https://in.liptpal.com/call-girls/mira-bhayandar/only-cash-payment-call-girl-sarvice-available-mira-bhayandar-daisar-thane/813768',\n",
       " 'https://in.liptpal.com/call-girls/mira-bhayandar/only-cash-payment-call-girl-sarvice-available-mira-bhayandar-daisar-thane/813768',\n",
       " 'https://in.liptpal.com/call-girls/thane/thane-best-vip-genuine-independent-low-cost-call-vip-girls-service/814724',\n",
       " 'https://in.liptpal.com/call-girls/thane/thane-best-vip-genuine-independent-low-cost-call-vip-girls-service/814724',\n",
       " 'https://in.liptpal.com/call-girls/thane/thane-myself-ankita-call-girl-escort-service-in-unlimited-sex-service-available-call/812536',\n",
       " 'https://in.liptpal.com/call-girls/thane/thane-myself-ankita-call-girl-escort-service-in-unlimited-sex-service-available-call/812536',\n",
       " 'https://in.liptpal.com/call-girls/thane/thane-local-hot-and-sexy-girls-model-all-tyep-sex-and-full-enjoy/812908',\n",
       " 'https://in.liptpal.com/call-girls/thane/thane-local-hot-and-sexy-girls-model-all-tyep-sex-and-full-enjoy/812908',\n",
       " 'https://in.liptpal.com/call-girls/dombivli/dombivli-best-vip-genuine-independent-low-cost-call-vip-girls-service/812254',\n",
       " 'https://in.liptpal.com/call-girls/dombivli/dombivli-best-vip-genuine-independent-low-cost-call-vip-girls-service/812254',\n",
       " 'https://in.liptpal.com/call-girls/navi-mumbai/hii-service-available-in-navi-mumbai-payal-vip-escort/813254',\n",
       " 'https://in.liptpal.com/call-girls/navi-mumbai/hii-service-available-in-navi-mumbai-payal-vip-escort/813254',\n",
       " 'https://in.liptpal.com/call-girls/thane/thane-high-quality-model-available-reasonable-price-with-place/805507',\n",
       " 'https://in.liptpal.com/call-girls/thane/thane-high-quality-model-available-reasonable-price-with-place/805507',\n",
       " 'https://in.liptpal.com/call-girls/thane/thane-local-hot-and-sexy-girls-model-all-tyep-sex-and-full-enjoy/812920',\n",
       " 'https://in.liptpal.com/call-girls/thane/thane-local-hot-and-sexy-girls-model-all-tyep-sex-and-full-enjoy/812920',\n",
       " 'https://in.liptpal.com/call-girls/navi-mumbai/call-girl-sarvice-available-in-navi-mumbai-thane-mira-bhayandar-daisar-vashi-case-payment/813049',\n",
       " 'https://in.liptpal.com/call-girls/navi-mumbai/call-girl-sarvice-available-in-navi-mumbai-thane-mira-bhayandar-daisar-vashi-case-payment/813049',\n",
       " 'https://in.liptpal.com/call-girls/thane/unlimited-short-full-enjoy-escort-call-girls/814642',\n",
       " 'https://in.liptpal.com/call-girls/thane/unlimited-short-full-enjoy-escort-call-girls/814642',\n",
       " 'https://in.liptpal.com/call-girls/mira-bhayandar/mira-road-muskan-parveen/815395',\n",
       " 'https://in.liptpal.com/call-girls/mira-bhayandar/mira-road-muskan-parveen/815395',\n",
       " 'https://in.liptpal.com/call-girls/dombivli/mulund-bhiwandi-dombiwali-palawa-city-kalyan-indian-call-girl-sonu-sharma/815390',\n",
       " 'https://in.liptpal.com/call-girls/dombivli/mulund-bhiwandi-dombiwali-palawa-city-kalyan-indian-call-girl-sonu-sharma/815390',\n",
       " 'https://in.liptpal.com/call-girls/dombivli/collection-of-vip-model-dombivali-escorts-who-are-elite-charming-and-attractive-shilphata/815380',\n",
       " 'https://in.liptpal.com/call-girls/dombivli/collection-of-vip-model-dombivali-escorts-who-are-elite-charming-and-attractive-shilphata/815380',\n",
       " 'https://in.liptpal.com/call-girls/kalyan/palawacity-kalyan-thane-dombiwali-bhiwandi-vip-call-girl-madhu-varma/815374',\n",
       " 'https://in.liptpal.com/call-girls/kalyan/palawacity-kalyan-thane-dombiwali-bhiwandi-vip-call-girl-madhu-varma/815374',\n",
       " 'https://in.liptpal.com/call-girls/dombivli/dombivli-guarantee-satisfaction-genuine-service-vip-escorts-russian-new-model-actress/815375',\n",
       " 'https://in.liptpal.com/call-girls/dombivli/dombivli-guarantee-satisfaction-genuine-service-vip-escorts-russian-new-model-actress/815375',\n",
       " 'https://in.liptpal.com/call-girls/dombivli/dombivli-ac-rooms-star-category-hotels-call-n-whatsapp-local-college-girls/815369',\n",
       " 'https://in.liptpal.com/call-girls/dombivli/dombivli-ac-rooms-star-category-hotels-call-n-whatsapp-local-college-girls/815369',\n",
       " 'https://in.liptpal.com/call-girls/mira-bhayandar/mumbai-miraroad-best-model-service-cash-payment-madhu/815356',\n",
       " 'https://in.liptpal.com/call-girls/mira-bhayandar/mumbai-miraroad-best-model-service-cash-payment-madhu/815356',\n",
       " 'https://in.liptpal.com/call-girls/thane/thane-all-over-vip-star-category-hotel-outcall-service-and-incalls-with-regular-price/815349',\n",
       " 'https://in.liptpal.com/call-girls/thane/thane-all-over-vip-star-category-hotel-outcall-service-and-incalls-with-regular-price/815349',\n",
       " 'https://in.liptpal.com/call-girls/thane/thane-airhostess-sexy-girls-uncovered-service-with-ac-rooms-star-category-hotels-call-n/815341',\n",
       " 'https://in.liptpal.com/call-girls/thane/thane-airhostess-sexy-girls-uncovered-service-with-ac-rooms-star-category-hotels-call-n/815341',\n",
       " 'https://in.liptpal.com/call-girls/navi-mumbai/sheetal-agarwal-independent-hygienic-looking-hot-model-bhabhi-pravite-girl-deshi-bhabhi/815280',\n",
       " 'https://in.liptpal.com/call-girls/navi-mumbai/sheetal-agarwal-independent-hygienic-looking-hot-model-bhabhi-pravite-girl-deshi-bhabhi/815280',\n",
       " 'https://in.liptpal.com/call-girls/kalyan/kalyan-low-rate-all-local-area-provide-best-female-model-nd-girls-mumbra-girls/815267',\n",
       " 'https://in.liptpal.com/call-girls/kalyan/kalyan-low-rate-all-local-area-provide-best-female-model-nd-girls-mumbra-girls/815267',\n",
       " 'https://in.liptpal.com/call-girls/navi-mumbai/mumbai-central-vip-escort-hard-sex-doorstep-out-call-in-call-girls-and-house-wife-available/815249',\n",
       " 'https://in.liptpal.com/call-girls/navi-mumbai/mumbai-central-vip-escort-hard-sex-doorstep-out-call-in-call-girls-and-house-wife-available/815249',\n",
       " 'https://in.liptpal.com/call-girls/thane/thane-sex-fulltypes-fucki-bhabhiji-hot-girl-inlow-price-sexxy-xxx-girls-kalwa/815198',\n",
       " 'https://in.liptpal.com/call-girls/thane/thane-sex-fulltypes-fucki-bhabhiji-hot-girl-inlow-price-sexxy-xxx-girls-kalwa/815198',\n",
       " 'https://in.liptpal.com/call-girls/navi-mumbai/myself-kavya-navi-mumbai-safe-call-girls-services-available/815164',\n",
       " 'https://in.liptpal.com/call-girls/navi-mumbai/myself-kavya-navi-mumbai-safe-call-girls-services-available/815164',\n",
       " 'https://in.liptpal.com/call-girls/bhiwandi/bhiwandi-cheap-rate-top-model-high-profile-college-professor-available-supriya-singh/815074',\n",
       " 'https://in.liptpal.com/call-girls/bhiwandi/bhiwandi-cheap-rate-top-model-high-profile-college-professor-available-supriya-singh/815074',\n",
       " 'https://in.liptpal.com/call-girls/navi-mumbai/navi-mumbai-xxxxxxxxxxxxxxxxxxxxxxx/799230',\n",
       " 'https://in.liptpal.com/call-girls/navi-mumbai/navi-mumbai-xxxxxxxxxxxxxxxxxxxxxxx/799230',\n",
       " 'https://in.liptpal.com/call-girls/mira-bhayandar/mira-road-safe-and-secure-college-girls-dahisar-marathi-housewife-kashimira-college-girls/815023',\n",
       " 'https://in.liptpal.com/call-girls/mira-bhayandar/mira-road-safe-and-secure-college-girls-dahisar-marathi-housewife-kashimira-college-girls/815023',\n",
       " 'https://in.liptpal.com/call-girls/navi-mumbai/navi-mumbai-top-girls-service-richa-malhotra-special-offers-low-price-cost-available-vashi/814978',\n",
       " 'https://in.liptpal.com/call-girls/navi-mumbai/navi-mumbai-top-girls-service-richa-malhotra-special-offers-low-price-cost-available-vashi/814978',\n",
       " 'https://in.liptpal.com/call-girls/thane/thane-vip-top-model-high-school-local-college-girl-young-people/250610',\n",
       " 'https://in.liptpal.com/call-girls/thane/thane-vip-top-model-high-school-local-college-girl-young-people/250610',\n",
       " 'https://in.liptpal.com/call-girls/thane/in-all-type-of-girl-you-will-find-only-with-me-call-low-cost-models-girl-bhabhi-xxxyythane-inn/239084',\n",
       " 'https://in.liptpal.com/call-girls/thane/in-all-type-of-girl-you-will-find-only-with-me-call-low-cost-models-girl-bhabhi-xxxyythane-inn/239084',\n",
       " 'https://in.liptpal.com/call-girls/thane?page=2',\n",
       " 'https://in.liptpal.com/call-girls/ambarnath',\n",
       " 'https://in.liptpal.com/call-girls/bhiwandi',\n",
       " 'https://in.liptpal.com/call-girls/dombivli',\n",
       " 'https://in.liptpal.com/call-girls/kalyan',\n",
       " 'https://in.liptpal.com/call-girls/mira-bhayandar',\n",
       " 'https://in.liptpal.com/call-girls/navi-mumbai',\n",
       " 'https://in.liptpal.com/call-girls/ulhasnagar',\n",
       " 'https://in.liptpal.com/adult-meetings/navi-mumbai',\n",
       " 'https://in.liptpal.com/male-escorts/navi-mumbai']"
      ]
     },
     "execution_count": 40,
     "metadata": {},
     "output_type": "execute_result"
    }
   ],
   "source": [
    "listing = \"https://in.liptpal.com/call-girls/thane\"\n",
    "resp = requests.get(listing)\n",
    "resp = Selector(text=resp.text)\n",
    "resp.xpath(\"\"\"//a[\n",
    "            starts-with(@href, 'https://in.liptpal') and \n",
    "            not(\n",
    "                contains(@href, 'register') or \n",
    "                contains(@href, 'post-ad') or \n",
    "                contains(@href, 'faq') or \n",
    "                contains(@href, 'promote-your-ad') or \n",
    "                contains(@href, 'contact-us') or \n",
    "                contains(@href, 'privacy-policy') or \n",
    "                contains(@href, 'terms-condition') or \n",
    "                contains(@href, 'login'\n",
    "           )\n",
    ")]/@href\"\"\").extract()"
   ]
  },
  {
   "cell_type": "code",
   "execution_count": 34,
   "metadata": {},
   "outputs": [
    {
     "data": {
      "text/plain": [
       "['https://in.liptpal.com',\n",
       " 'https://in.liptpal.com',\n",
       " 'https://in.liptpal.com',\n",
       " 'https://in.liptpal.com/call-girls',\n",
       " 'https://in.liptpal.com/call-girls/thane',\n",
       " 'https://in.liptpal.com/call-girls',\n",
       " 'https://in.liptpal.com/call-girls/thane']"
      ]
     },
     "execution_count": 34,
     "metadata": {},
     "output_type": "execute_result"
    }
   ],
   "source": [
    "listing = \"https://in.liptpal.com/call-girls/thane/thane-myself-ankita-call-girl-escort-service-in-unlimited-sex-service-availablecall-service/812985\"\n",
    "resp = requests.get(listing)\n",
    "resp = Selector(text=resp.text)\n",
    "resp.xpath(\"\"\"//a[\n",
    "            starts-with(@href, 'https://in.liptpal') and \n",
    "            not(\n",
    "                contains(@href, 'register') or \n",
    "                contains(@href, 'post-ad') or \n",
    "                contains(@href, 'faq') or \n",
    "                contains(@href, 'promote-your-ad') or \n",
    "                contains(@href, 'contact-us') or \n",
    "                contains(@href, 'privacy-policy') or \n",
    "                contains(@href, 'terms-condition') or \n",
    "                contains(@href, 'login'\n",
    "           )\n",
    ")]/@href\"\"\").extract()"
   ]
  },
  {
   "cell_type": "code",
   "execution_count": 41,
   "metadata": {},
   "outputs": [
    {
     "data": {
      "text/plain": [
       "{'title': None, 'images': [], 'desc': '', 'phone': ''}"
      ]
     },
     "execution_count": 41,
     "metadata": {},
     "output_type": "execute_result"
    }
   ],
   "source": [
    "{ \n",
    "\"title\":resp.xpath(\"//div[@id='myCarousel']/preceding-sibling::h1/text()\").extract_first(),\n",
    "\"images\":resp.xpath(\"//div[@id='myCarousel']//img[contains(@src,'storage')]/@src\").extract(),\n",
    "\"desc\":\",\".join([x.strip() for x in resp.xpath(\"//div[@id='myCarousel']/following-sibling::p/text()[normalize-space()]\").extract()]),\n",
    "\"phone\":resp.xpath(\"substring-after(//a[contains(@href,'tel')]/@href, 'tel:')\").extract_first()\n",
    "}"
   ]
  },
  {
   "cell_type": "code",
   "execution_count": null,
   "metadata": {},
   "outputs": [],
   "source": [
    "list(set(resp.xpath(\"\"\"//a[\n",
    "            starts-with(@href, 'https://hi.oklute.com')]/@href\"\"\").extract()))"
   ]
  },
  {
   "cell_type": "code",
   "execution_count": null,
   "metadata": {},
   "outputs": [],
   "source": [
    "title=\"//h1[@class='main-title']/text()\"\n",
    "phone=\"//a[@data-phone]/@data-phone\"\n",
    "desc=\"//h1[@class='main-title']/following-sibling::p/text()\"\n",
    "images=\"//div[@class='gallery-grid']//img/@src\""
   ]
  },
  {
   "cell_type": "code",
   "execution_count": null,
   "metadata": {},
   "outputs": [],
   "source": [
    "{\n",
    "    \"title\":resp.xpath(\"//h1[@class='main-title']/text()\").extract_first(),\n",
    "\n",
    " }\n",
    "\n",
    "yield {\n",
    "    \"source\": response.url, \n",
    "    \"images\": response.xpath(\"//div[@class='gallery-grid']//img/@src\").extract(), \n",
    "    \"title\": response.xpath(\"//h1[@class='main-title']/text()\").extract_first(), \n",
    "    \"phone\": response.xpath(\"//a[@data-phone]/@data-phone\").extract_first(),\n",
    "    \"desc\": response.xpath(\"//h1[@class='main-title']/following-sibling::p/text()\").extract()}\n"
   ]
  }
 ],
 "metadata": {
  "kernelspec": {
   "display_name": "Python 3",
   "language": "python",
   "name": "python3"
  },
  "language_info": {
   "codemirror_mode": {
    "name": "ipython",
    "version": 3
   },
   "file_extension": ".py",
   "mimetype": "text/x-python",
   "name": "python",
   "nbconvert_exporter": "python",
   "pygments_lexer": "ipython3",
   "version": "3.10.0"
  }
 },
 "nbformat": 4,
 "nbformat_minor": 2
}
